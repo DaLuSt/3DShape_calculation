{
 "cells": [
  {
   "cell_type": "code",
   "execution_count": 1,
   "metadata": {},
   "outputs": [],
   "source": [
    "import sys\n",
    "import os\n",
    "\n",
    "# Determine the current notebook's directory\n",
    "notebook_directory = os.getcwd()\n",
    "\n",
    "# Construct the path to the 'backend' folder and add it to sys.path\n",
    "backend_path = os.path.join(notebook_directory, 'backend')\n",
    "sys.path.append(backend_path)\n",
    "\n",
    "# Import the required modules from the 'backend' folder\n",
    "from volume import Volume\n",
    "from curved_surface_area import CurvedSurfaceArea\n",
    "from surface_area import SurfaceArea\n"
   ]
  },
  {
   "cell_type": "code",
   "execution_count": 7,
   "metadata": {},
   "outputs": [],
   "source": [
    "# Create an instance of the Volume class with specific dimensions\n",
    "cube_volume = Volume(length=5)\n",
    "\n",
    "# Create an instance of the CurvedSurfaceArea class with specific dimensions\n",
    "cone_curved_surface = CurvedSurfaceArea(radius=3, height=4)\n",
    "\n",
    "# Create an instance of the SurfaceArea class with specific dimensions\n",
    "rectangle_surface_area = SurfaceArea(length=5, width=3)\n",
    "\n",
    "\n",
    "# Calculate the volume of the cube\n",
    "cube_volume_result = cube_volume.calculate_volume_cube(length=5)\n",
    "\n",
    "# Calculate the curved surface area of the cone\n",
    "cone_curved_surface_result = cone_curved_surface.calculate_curved_area_cone(radius=3, height=4)\n",
    "\n",
    "# Calculate the area of the rectangle\n",
    "rectangle_area_result = rectangle_surface_area.calculate_area_rectangle(width=3, height=5)\n"
   ]
  },
  {
   "cell_type": "code",
   "execution_count": 8,
   "metadata": {},
   "outputs": [
    {
     "name": "stdout",
     "output_type": "stream",
     "text": [
      "Volume of the cube: 125\n",
      "Curved surface area of the cone: 47.12388980384689\n",
      "Area of the rectangle: 15\n"
     ]
    }
   ],
   "source": [
    "print(f\"Volume of the cube: {cube_volume_result}\")\n",
    "print(f\"Curved surface area of the cone: {cone_curved_surface_result}\")\n",
    "print(f\"Area of the rectangle: {rectangle_area_result}\")\n"
   ]
  }
 ],
 "metadata": {
  "kernelspec": {
   "display_name": "Python 3",
   "language": "python",
   "name": "python3"
  },
  "language_info": {
   "codemirror_mode": {
    "name": "ipython",
    "version": 3
   },
   "file_extension": ".py",
   "mimetype": "text/x-python",
   "name": "python",
   "nbconvert_exporter": "python",
   "pygments_lexer": "ipython3",
   "version": "3.10.11"
  }
 },
 "nbformat": 4,
 "nbformat_minor": 2
}
